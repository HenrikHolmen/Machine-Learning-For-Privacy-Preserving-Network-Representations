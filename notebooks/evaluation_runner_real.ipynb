{
 "cells": [
  {
   "cell_type": "code",
   "execution_count": 727,
   "id": "861d73d4",
   "metadata": {},
   "outputs": [],
   "source": [
    "import sys\n",
    "import os\n",
    "\n",
    "code_dir = os.path.abspath(os.path.join(os.getcwd(), \"..\", \"code\"))\n",
    "sys.path.append(code_dir)\n",
    "\n",
    "import json\n",
    "import numpy as np\n",
    "from evaluation.metrics_real_data import compute_all_utilities\n",
    "from anonymization.utils import compute_block_probability_matrix, generate_anonymized_graph"
   ]
  },
  {
   "cell_type": "code",
   "execution_count": 728,
   "id": "3c8a9945",
   "metadata": {},
   "outputs": [],
   "source": [
    "n = 100  # Change before run\n",
    "K = 15   # Change before run\n",
    "seed = 2025 # Change before run\n",
    "dataset = \"ca-hepth\"  # \"enron\", \"ca-hepth\", \"facebook\"\n",
    "algorithm = \"swap\"   # \"swap\", \"merge\", \"hybrid\"\n",
    "filename_suffix = f\"n{n}_K{K}_seed{seed}\"\n",
    "\n",
    "A = np.load(f\"../data/real/{dataset}/adjacency_A_{dataset}_n{n}_seed{seed}.npy\")\n",
    "z_anonymized = np.load(f\"../data/results/real/{dataset}/{algorithm}/z_anonymized_{algorithm}_{filename_suffix}.npy\").tolist()\n",
    "metrics_dir = f\"../data/results/real/{dataset}/metrics\"\n",
    "os.makedirs(metrics_dir, exist_ok=True)"
   ]
  },
  {
   "cell_type": "code",
   "execution_count": 729,
   "id": "a4871a87",
   "metadata": {},
   "outputs": [],
   "source": [
    "#Loading and reconstructing\n",
    "B_anonymized, _ = compute_block_probability_matrix(A, z_anonymized)\n",
    "A_hat = generate_anonymized_graph(z_anonymized, B_anonymized, seed=seed)\n",
    "np.save(f\"../data/results/real/{dataset}/{algorithm}/adj_matrix_{filename_suffix}.npy\", A_hat)"
   ]
  },
  {
   "cell_type": "code",
   "execution_count": 730,
   "id": "157d3a5e",
   "metadata": {},
   "outputs": [],
   "source": [
    "# Compute metrics (A_hat is the anonymized graph)\n",
    "results = compute_all_utilities(A_hat, z_anonymized=z_anonymized, A_original=A)"
   ]
  },
  {
   "cell_type": "code",
   "execution_count": 731,
   "id": "1a8d844d",
   "metadata": {},
   "outputs": [
    {
     "name": "stdout",
     "output_type": "stream",
     "text": [
      "degree_distribution_difference: 0.12884098726725127\n",
      "clustering_coefficient: 0.18330014430014432\n",
      "shortest_path_mean: None\n",
      "shortest_path_std: None\n",
      "assortativity: 0.4285124321541198\n",
      "modularity_anonymized: 0.6098807304418139\n",
      "spectral_eigenvalues: [7.69540165 5.9750315  3.77453538 3.68683603 3.48861471 3.16597622\n",
      " 3.03131542 2.90230909 2.65800489 2.47040405]\n"
     ]
    }
   ],
   "source": [
    "# Print results\n",
    "for k, v in results.items():\n",
    "    print(f\"{k}: {v}\")"
   ]
  },
  {
   "cell_type": "code",
   "execution_count": 732,
   "id": "2706f4ce",
   "metadata": {},
   "outputs": [
    {
     "name": "stdout",
     "output_type": "stream",
     "text": [
      "\n",
      " Log: Saved utility results to ../data/results/real/ca-hepth/metrics/utilities_swap_n100_K15_seed2025.json\n"
     ]
    }
   ],
   "source": [
    "# Before saving converting arrays to lists so JSON can handle it\n",
    "for key, value in results.items():\n",
    "    if isinstance(value, np.ndarray):\n",
    "        results[key] = value.tolist()\n",
    "\n",
    "output_path = f\"{metrics_dir}/utilities_{algorithm}_{filename_suffix}.json\"\n",
    "with open(output_path, \"w\") as f:\n",
    "    json.dump(results, f, indent=4)\n",
    "\n",
    "print(f\"\\n Log: Saved utility results to {output_path}\")"
   ]
  }
 ],
 "metadata": {
  "kernelspec": {
   "display_name": "bachelor",
   "language": "python",
   "name": "python3"
  },
  "language_info": {
   "codemirror_mode": {
    "name": "ipython",
    "version": 3
   },
   "file_extension": ".py",
   "mimetype": "text/x-python",
   "name": "python",
   "nbconvert_exporter": "python",
   "pygments_lexer": "ipython3",
   "version": "3.10.16"
  }
 },
 "nbformat": 4,
 "nbformat_minor": 5
}
