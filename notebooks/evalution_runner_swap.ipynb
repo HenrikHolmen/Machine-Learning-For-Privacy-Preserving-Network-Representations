{
 "cells": [
  {
   "cell_type": "code",
   "execution_count": 16,
   "id": "861d73d4",
   "metadata": {},
   "outputs": [],
   "source": [
    "import sys\n",
    "import os\n",
    "\n",
    "code_dir = os.path.abspath(os.path.join(os.getcwd(), \"..\", \"code\"))\n",
    "sys.path.append(code_dir)\n",
    "\n",
    "import json\n",
    "import numpy as np\n",
    "from evaluation.metrics import compute_all_utilities"
   ]
  },
  {
   "cell_type": "code",
   "execution_count": 17,
   "id": "3c8a9945",
   "metadata": {},
   "outputs": [],
   "source": [
    "# Load inputs\n",
    "n = 100  # Change before run\n",
    "K = 15  # Change before run\n",
    "seed = 2025  # Change before run\n",
    "\n",
    "filename_suffix = f\"n{n}_K{K}_seed{seed}\"\n",
    "\n",
    "A = np.load(f\"../data/synthetic/adjacency_A_n{n}_K{K}_seed{seed}.npy\")\n",
    "\n",
    "z_true = np.load(f\"../data/synthetic/z_assignment_n{n}_K{K}_seed{seed}.npy\").tolist()\n",
    "z_anonymized = np.load(\n",
    "    f\"../data/results/swap/z_anonymized_swap_n{n}_K{K}_seed{seed}.npy\"\n",
    ").tolist()"
   ]
  },
  {
   "cell_type": "code",
   "execution_count": 18,
   "id": "157d3a5e",
   "metadata": {},
   "outputs": [],
   "source": [
    "# Compute metrics\n",
    "results = compute_all_utilities(A, z_true, z_anonymized)"
   ]
  },
  {
   "cell_type": "code",
   "execution_count": 19,
   "id": "1a8d844d",
   "metadata": {},
   "outputs": [
    {
     "name": "stdout",
     "output_type": "stream",
     "text": [
      "clustering_coefficient: 0.252272360798293\n",
      "shortest_path_mean: 1.8614\n",
      "shortest_path_std: 0.50575689812399\n",
      "assortativity: -0.020864676285525432\n",
      "modularity_true: 0.37310545955242513\n",
      "modularity_anonymized: 0.29670000614238035\n",
      "spectral_eigenvalues: [18.37632028 10.16782703  9.66192214  9.26063218  8.71031844  5.63488483\n",
      "  5.31128687  5.23728146  4.82406555  4.78021338]\n"
     ]
    }
   ],
   "source": [
    "# Print results\n",
    "for k, v in results.items():\n",
    "    print(f\"{k}: {v}\")"
   ]
  },
  {
   "cell_type": "code",
   "execution_count": 21,
   "id": "2706f4ce",
   "metadata": {},
   "outputs": [
    {
     "name": "stdout",
     "output_type": "stream",
     "text": [
      "\n",
      "Log: Saved utility results to data/results/metrics/\n"
     ]
    }
   ],
   "source": [
    "# Before saving converting arrays to lists so JSON can handle it\n",
    "for key, value in results.items():\n",
    "    if isinstance(value, np.ndarray):\n",
    "        results[key] = value.tolist()\n",
    "\n",
    "# Save the results dictionary\n",
    "os.makedirs(\"../data/results/metrics\", exist_ok=True)\n",
    "with open(\n",
    "    f\"../data/results/metrics/utilities_swap_n{n}_K{K}_seed{seed}.json\", \"w\"\n",
    ") as f:\n",
    "    json.dump(results, f, indent=4)\n",
    "\n",
    "print(\"\\nLog: Saved utility results to data/results/metrics/\")"
   ]
  }
 ],
 "metadata": {
  "kernelspec": {
   "display_name": "bachelor",
   "language": "python",
   "name": "python3"
  },
  "language_info": {
   "codemirror_mode": {
    "name": "ipython",
    "version": 3
   },
   "file_extension": ".py",
   "mimetype": "text/x-python",
   "name": "python",
   "nbconvert_exporter": "python",
   "pygments_lexer": "ipython3",
   "version": "3.10.16"
  }
 },
 "nbformat": 4,
 "nbformat_minor": 5
}
