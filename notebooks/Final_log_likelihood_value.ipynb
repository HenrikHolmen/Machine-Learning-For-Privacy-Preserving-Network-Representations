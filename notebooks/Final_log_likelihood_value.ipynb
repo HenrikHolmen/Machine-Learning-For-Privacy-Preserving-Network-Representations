{
 "cells": [
  {
   "cell_type": "code",
   "execution_count": 124,
   "id": "ab505250",
   "metadata": {},
   "outputs": [
    {
     "name": "stdout",
     "output_type": "stream",
     "text": [
      "Initial log-likelihood: -66.5421293337548\n",
      "Final log-likelihood: -1576.914233867347\n"
     ]
    }
   ],
   "source": [
    "import numpy as np\n",
    "import os\n",
    "\n",
    "# ==== Parameters ====\n",
    "n = 100\n",
    "K = 15\n",
    "seed = 210659\n",
    "data = 'ca-hepth'             # 'facebook', 'enron', or 'ca-hepth'\n",
    "algorithm = 'merge'       # 'merge', 'swap', or 'hybrid'\n",
    "\n",
    "# ==== Construct full relative path from notebook ====\n",
    "base_dir = '../data/results/real'\n",
    "folder = os.path.join(base_dir, data, algorithm)\n",
    "filename_suffix = f\"n{n}_K{K}_seed{seed}\"\n",
    "filename = f\"log_likelihood_trace_{filename_suffix}.npy\"\n",
    "filepath = os.path.join(folder, filename)\n",
    "\n",
    "# ==== Load and extract ====\n",
    "try:\n",
    "    log_likelihood_trace = np.load(filepath)\n",
    "    initial_ll = log_likelihood_trace[1] # Change to 1 for MERGE or else each will be in singletons and LL = 0 initial\n",
    "    final_ll = log_likelihood_trace[-1]\n",
    "\n",
    "    print(f\"Initial log-likelihood: {initial_ll}\")\n",
    "    print(f\"Final log-likelihood: {final_ll}\")\n",
    "except FileNotFoundError:\n",
    "    print(f\"File not found: {filepath}\")\n",
    "except Exception as e:\n",
    "    print(f\"Error reading file: {e}\")"
   ]
  }
 ],
 "metadata": {
  "kernelspec": {
   "display_name": "bachelor",
   "language": "python",
   "name": "python3"
  },
  "language_info": {
   "codemirror_mode": {
    "name": "ipython",
    "version": 3
   },
   "file_extension": ".py",
   "mimetype": "text/x-python",
   "name": "python",
   "nbconvert_exporter": "python",
   "pygments_lexer": "ipython3",
   "version": "3.10.16"
  }
 },
 "nbformat": 4,
 "nbformat_minor": 5
}
