{
 "cells": [
  {
   "cell_type": "code",
   "execution_count": 6,
   "id": "861d73d4",
   "metadata": {},
   "outputs": [],
   "source": [
    "import sys\n",
    "import os\n",
    "\n",
    "code_dir = os.path.abspath(os.path.join(os.getcwd(), \"..\", \"code\"))\n",
    "sys.path.append(code_dir)\n",
    "\n",
    "import json\n",
    "import numpy as np\n",
    "from evaluation.metrics import compute_all_utilities"
   ]
  },
  {
   "cell_type": "code",
   "execution_count": 7,
   "id": "3c8a9945",
   "metadata": {},
   "outputs": [],
   "source": [
    "# Load inputs\n",
    "n = 100  # Change before run\n",
    "K = 15  # Change before run\n",
    "seed = 2025  # Change before run\n",
    "\n",
    "filename_suffix = f\"n{n}_K{K}_seed{seed}\"\n",
    "\n",
    "A = np.load(f\"../data/synthetic/adjacency_A_n{n}_K{K}_seed{seed}.npy\")\n",
    "\n",
    "z_true = np.load(f\"../data/synthetic/z_assignment_n{n}_K{K}_seed{seed}.npy\").tolist()\n",
    "z_anonymized = np.load(\n",
    "    f\"../data/results/merge/z_anonymized_merge_n{n}_K{K}_seed{seed}.npy\"\n",
    ").tolist()"
   ]
  },
  {
   "cell_type": "code",
   "execution_count": 8,
   "id": "157d3a5e",
   "metadata": {},
   "outputs": [],
   "source": [
    "# Compute metrics\n",
    "results = compute_all_utilities(A, z_true, z_anonymized)"
   ]
  },
  {
   "cell_type": "code",
   "execution_count": 10,
   "id": "1a8d844d",
   "metadata": {},
   "outputs": [
    {
     "name": "stdout",
     "output_type": "stream",
     "text": [
      "clustering_coefficient: 0.4564157150039504\n",
      "shortest_path_mean: 2.771\n",
      "shortest_path_std: 0.9542321520468696\n",
      "assortativity: -0.013251006008470604\n",
      "modularity_true: 0.7357375418119178\n",
      "modularity_anonymized: -0.05231826433670799\n",
      "spectral_eigenvalues: [11.27634763 10.70364084 10.46261584  9.65713899  9.39208369  3.52275074\n",
      "  3.50342655  3.31753214  3.10419255  2.99474199]\n"
     ]
    }
   ],
   "source": [
    "# Print results\n",
    "for k, v in results.items():\n",
    "    print(f\"{k}: {v}\")"
   ]
  },
  {
   "cell_type": "code",
   "execution_count": 11,
   "id": "2706f4ce",
   "metadata": {},
   "outputs": [
    {
     "name": "stdout",
     "output_type": "stream",
     "text": [
      "\n",
      "Log: Saved utility results to data/results/metrics/\n"
     ]
    }
   ],
   "source": [
    "# Before saving converting arrays to lists so JSON can handle it\n",
    "for key, value in results.items():\n",
    "    if isinstance(value, np.ndarray):\n",
    "        results[key] = value.tolist()\n",
    "\n",
    "# Save the results dictionary\n",
    "os.makedirs(\"../data/results/metrics\", exist_ok=True)\n",
    "with open(\n",
    "    f\"../data/results/metrics/utilities_merge_n{n}_K{K}_seed{seed}.json\", \"w\"\n",
    ") as f:\n",
    "    json.dump(results, f, indent=4)\n",
    "\n",
    "print(\"\\nLog: Saved utility results to data/results/metrics/\")"
   ]
  }
 ],
 "metadata": {
  "kernelspec": {
   "display_name": "bachelor",
   "language": "python",
   "name": "python3"
  },
  "language_info": {
   "codemirror_mode": {
    "name": "ipython",
    "version": 3
   },
   "file_extension": ".py",
   "mimetype": "text/x-python",
   "name": "python",
   "nbconvert_exporter": "python",
   "pygments_lexer": "ipython3",
   "version": "3.10.16"
  }
 },
 "nbformat": 4,
 "nbformat_minor": 5
}
